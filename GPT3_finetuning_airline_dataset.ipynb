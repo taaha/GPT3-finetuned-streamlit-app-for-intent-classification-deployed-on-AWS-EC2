{
  "nbformat": 4,
  "nbformat_minor": 0,
  "metadata": {
    "colab": {
      "provenance": []
    },
    "kernelspec": {
      "name": "python3",
      "display_name": "Python 3"
    },
    "language_info": {
      "name": "python"
    }
  },
  "cells": [
    {
      "cell_type": "markdown",
      "source": [
        "# GPT3 Finetuning"
      ],
      "metadata": {
        "id": "H1raIyMi4B43"
      }
    },
    {
      "cell_type": "markdown",
      "source": [
        "\n",
        "https://www.kaggle.com/datasets/hassanamin/atis-airlinetravelinformationsystem"
      ],
      "metadata": {
        "id": "YdEtKU6S4SoE"
      }
    },
    {
      "cell_type": "code",
      "source": [
        "!kaggle datasets download -d hassanamin/atis-airlinetravelinformationsystem"
      ],
      "metadata": {
        "colab": {
          "base_uri": "https://localhost:8080/"
        },
        "id": "vMHwqtVO5Uk-",
        "outputId": "9412ee25-4257-417c-9343-2633c76410db"
      },
      "execution_count": 39,
      "outputs": [
        {
          "output_type": "stream",
          "name": "stdout",
          "text": [
            "Downloading atis-airlinetravelinformationsystem.zip to /content\n",
            "\r  0% 0.00/139k [00:00<?, ?B/s]\n",
            "\r100% 139k/139k [00:00<00:00, 56.5MB/s]\n"
          ]
        }
      ]
    },
    {
      "cell_type": "code",
      "source": [
        "!mkdir data"
      ],
      "metadata": {
        "id": "z2U_Ndp-6tBC"
      },
      "execution_count": 40,
      "outputs": []
    },
    {
      "cell_type": "code",
      "source": [
        "! unzip atis-airlinetravelinformationsystem.zip -d train"
      ],
      "metadata": {
        "colab": {
          "base_uri": "https://localhost:8080/"
        },
        "id": "-cRZ2Cfp6wgA",
        "outputId": "c6f15399-d2e5-49d4-fbae-5beb882ad52e"
      },
      "execution_count": 41,
      "outputs": [
        {
          "output_type": "stream",
          "name": "stdout",
          "text": [
            "Archive:  atis-airlinetravelinformationsystem.zip\n",
            "  inflating: train/atis_intents.csv  \n",
            "  inflating: train/atis_intents_test.csv  \n",
            "  inflating: train/atis_intents_train.csv  \n"
          ]
        }
      ]
    },
    {
      "cell_type": "code",
      "source": [
        "import pandas as pd\n",
        "import numpy as np"
      ],
      "metadata": {
        "id": "8ff34gmO5swc"
      },
      "execution_count": 42,
      "outputs": []
    },
    {
      "cell_type": "markdown",
      "source": [
        "### Loading and cleaning data"
      ],
      "metadata": {
        "id": "ySEFhBap4k1x"
      }
    },
    {
      "cell_type": "code",
      "source": [
        "data = pd.read_csv(\"train/atis_intents.csv\",header=None)\n",
        "data.head()"
      ],
      "metadata": {
        "colab": {
          "base_uri": "https://localhost:8080/",
          "height": 206
        },
        "id": "gjpsceIe6HcN",
        "outputId": "2f13952e-6518-43f2-d0ab-130203b5fdc6"
      },
      "execution_count": 43,
      "outputs": [
        {
          "output_type": "execute_result",
          "data": {
            "text/plain": [
              "                  0                                                  1\n",
              "0       atis_flight   i want to fly from boston at 838 am and arriv...\n",
              "1       atis_flight   what flights are available from pittsburgh to...\n",
              "2  atis_flight_time   what is the arrival time in san francisco for...\n",
              "3      atis_airfare            cheapest airfare from tacoma to orlando\n",
              "4      atis_airfare   round trip fares from pittsburgh to philadelp..."
            ],
            "text/html": [
              "\n",
              "  <div id=\"df-531c84b7-770c-47fe-a07c-21c218cb018a\">\n",
              "    <div class=\"colab-df-container\">\n",
              "      <div>\n",
              "<style scoped>\n",
              "    .dataframe tbody tr th:only-of-type {\n",
              "        vertical-align: middle;\n",
              "    }\n",
              "\n",
              "    .dataframe tbody tr th {\n",
              "        vertical-align: top;\n",
              "    }\n",
              "\n",
              "    .dataframe thead th {\n",
              "        text-align: right;\n",
              "    }\n",
              "</style>\n",
              "<table border=\"1\" class=\"dataframe\">\n",
              "  <thead>\n",
              "    <tr style=\"text-align: right;\">\n",
              "      <th></th>\n",
              "      <th>0</th>\n",
              "      <th>1</th>\n",
              "    </tr>\n",
              "  </thead>\n",
              "  <tbody>\n",
              "    <tr>\n",
              "      <th>0</th>\n",
              "      <td>atis_flight</td>\n",
              "      <td>i want to fly from boston at 838 am and arriv...</td>\n",
              "    </tr>\n",
              "    <tr>\n",
              "      <th>1</th>\n",
              "      <td>atis_flight</td>\n",
              "      <td>what flights are available from pittsburgh to...</td>\n",
              "    </tr>\n",
              "    <tr>\n",
              "      <th>2</th>\n",
              "      <td>atis_flight_time</td>\n",
              "      <td>what is the arrival time in san francisco for...</td>\n",
              "    </tr>\n",
              "    <tr>\n",
              "      <th>3</th>\n",
              "      <td>atis_airfare</td>\n",
              "      <td>cheapest airfare from tacoma to orlando</td>\n",
              "    </tr>\n",
              "    <tr>\n",
              "      <th>4</th>\n",
              "      <td>atis_airfare</td>\n",
              "      <td>round trip fares from pittsburgh to philadelp...</td>\n",
              "    </tr>\n",
              "  </tbody>\n",
              "</table>\n",
              "</div>\n",
              "      <button class=\"colab-df-convert\" onclick=\"convertToInteractive('df-531c84b7-770c-47fe-a07c-21c218cb018a')\"\n",
              "              title=\"Convert this dataframe to an interactive table.\"\n",
              "              style=\"display:none;\">\n",
              "        \n",
              "  <svg xmlns=\"http://www.w3.org/2000/svg\" height=\"24px\"viewBox=\"0 0 24 24\"\n",
              "       width=\"24px\">\n",
              "    <path d=\"M0 0h24v24H0V0z\" fill=\"none\"/>\n",
              "    <path d=\"M18.56 5.44l.94 2.06.94-2.06 2.06-.94-2.06-.94-.94-2.06-.94 2.06-2.06.94zm-11 1L8.5 8.5l.94-2.06 2.06-.94-2.06-.94L8.5 2.5l-.94 2.06-2.06.94zm10 10l.94 2.06.94-2.06 2.06-.94-2.06-.94-.94-2.06-.94 2.06-2.06.94z\"/><path d=\"M17.41 7.96l-1.37-1.37c-.4-.4-.92-.59-1.43-.59-.52 0-1.04.2-1.43.59L10.3 9.45l-7.72 7.72c-.78.78-.78 2.05 0 2.83L4 21.41c.39.39.9.59 1.41.59.51 0 1.02-.2 1.41-.59l7.78-7.78 2.81-2.81c.8-.78.8-2.07 0-2.86zM5.41 20L4 18.59l7.72-7.72 1.47 1.35L5.41 20z\"/>\n",
              "  </svg>\n",
              "      </button>\n",
              "      \n",
              "  <style>\n",
              "    .colab-df-container {\n",
              "      display:flex;\n",
              "      flex-wrap:wrap;\n",
              "      gap: 12px;\n",
              "    }\n",
              "\n",
              "    .colab-df-convert {\n",
              "      background-color: #E8F0FE;\n",
              "      border: none;\n",
              "      border-radius: 50%;\n",
              "      cursor: pointer;\n",
              "      display: none;\n",
              "      fill: #1967D2;\n",
              "      height: 32px;\n",
              "      padding: 0 0 0 0;\n",
              "      width: 32px;\n",
              "    }\n",
              "\n",
              "    .colab-df-convert:hover {\n",
              "      background-color: #E2EBFA;\n",
              "      box-shadow: 0px 1px 2px rgba(60, 64, 67, 0.3), 0px 1px 3px 1px rgba(60, 64, 67, 0.15);\n",
              "      fill: #174EA6;\n",
              "    }\n",
              "\n",
              "    [theme=dark] .colab-df-convert {\n",
              "      background-color: #3B4455;\n",
              "      fill: #D2E3FC;\n",
              "    }\n",
              "\n",
              "    [theme=dark] .colab-df-convert:hover {\n",
              "      background-color: #434B5C;\n",
              "      box-shadow: 0px 1px 3px 1px rgba(0, 0, 0, 0.15);\n",
              "      filter: drop-shadow(0px 1px 2px rgba(0, 0, 0, 0.3));\n",
              "      fill: #FFFFFF;\n",
              "    }\n",
              "  </style>\n",
              "\n",
              "      <script>\n",
              "        const buttonEl =\n",
              "          document.querySelector('#df-531c84b7-770c-47fe-a07c-21c218cb018a button.colab-df-convert');\n",
              "        buttonEl.style.display =\n",
              "          google.colab.kernel.accessAllowed ? 'block' : 'none';\n",
              "\n",
              "        async function convertToInteractive(key) {\n",
              "          const element = document.querySelector('#df-531c84b7-770c-47fe-a07c-21c218cb018a');\n",
              "          const dataTable =\n",
              "            await google.colab.kernel.invokeFunction('convertToInteractive',\n",
              "                                                     [key], {});\n",
              "          if (!dataTable) return;\n",
              "\n",
              "          const docLinkHtml = 'Like what you see? Visit the ' +\n",
              "            '<a target=\"_blank\" href=https://colab.research.google.com/notebooks/data_table.ipynb>data table notebook</a>'\n",
              "            + ' to learn more about interactive tables.';\n",
              "          element.innerHTML = '';\n",
              "          dataTable['output_type'] = 'display_data';\n",
              "          await google.colab.output.renderOutput(dataTable, element);\n",
              "          const docLink = document.createElement('div');\n",
              "          docLink.innerHTML = docLinkHtml;\n",
              "          element.appendChild(docLink);\n",
              "        }\n",
              "      </script>\n",
              "    </div>\n",
              "  </div>\n",
              "  "
            ]
          },
          "metadata": {},
          "execution_count": 43
        }
      ]
    },
    {
      "cell_type": "code",
      "source": [
        "data.columns = ['intent','text']"
      ],
      "metadata": {
        "id": "5-u9XF6w9HGV"
      },
      "execution_count": 44,
      "outputs": []
    },
    {
      "cell_type": "code",
      "source": [
        "data.head()"
      ],
      "metadata": {
        "id": "BrfxXNMb93TK",
        "outputId": "6ad9741c-e719-4c84-e3de-d29cf0a3709a",
        "colab": {
          "base_uri": "https://localhost:8080/",
          "height": 206
        }
      },
      "execution_count": 45,
      "outputs": [
        {
          "output_type": "execute_result",
          "data": {
            "text/plain": [
              "             intent                                               text\n",
              "0       atis_flight   i want to fly from boston at 838 am and arriv...\n",
              "1       atis_flight   what flights are available from pittsburgh to...\n",
              "2  atis_flight_time   what is the arrival time in san francisco for...\n",
              "3      atis_airfare            cheapest airfare from tacoma to orlando\n",
              "4      atis_airfare   round trip fares from pittsburgh to philadelp..."
            ],
            "text/html": [
              "\n",
              "  <div id=\"df-c0a5b487-c19a-4068-9c1a-9d9a42f81689\">\n",
              "    <div class=\"colab-df-container\">\n",
              "      <div>\n",
              "<style scoped>\n",
              "    .dataframe tbody tr th:only-of-type {\n",
              "        vertical-align: middle;\n",
              "    }\n",
              "\n",
              "    .dataframe tbody tr th {\n",
              "        vertical-align: top;\n",
              "    }\n",
              "\n",
              "    .dataframe thead th {\n",
              "        text-align: right;\n",
              "    }\n",
              "</style>\n",
              "<table border=\"1\" class=\"dataframe\">\n",
              "  <thead>\n",
              "    <tr style=\"text-align: right;\">\n",
              "      <th></th>\n",
              "      <th>intent</th>\n",
              "      <th>text</th>\n",
              "    </tr>\n",
              "  </thead>\n",
              "  <tbody>\n",
              "    <tr>\n",
              "      <th>0</th>\n",
              "      <td>atis_flight</td>\n",
              "      <td>i want to fly from boston at 838 am and arriv...</td>\n",
              "    </tr>\n",
              "    <tr>\n",
              "      <th>1</th>\n",
              "      <td>atis_flight</td>\n",
              "      <td>what flights are available from pittsburgh to...</td>\n",
              "    </tr>\n",
              "    <tr>\n",
              "      <th>2</th>\n",
              "      <td>atis_flight_time</td>\n",
              "      <td>what is the arrival time in san francisco for...</td>\n",
              "    </tr>\n",
              "    <tr>\n",
              "      <th>3</th>\n",
              "      <td>atis_airfare</td>\n",
              "      <td>cheapest airfare from tacoma to orlando</td>\n",
              "    </tr>\n",
              "    <tr>\n",
              "      <th>4</th>\n",
              "      <td>atis_airfare</td>\n",
              "      <td>round trip fares from pittsburgh to philadelp...</td>\n",
              "    </tr>\n",
              "  </tbody>\n",
              "</table>\n",
              "</div>\n",
              "      <button class=\"colab-df-convert\" onclick=\"convertToInteractive('df-c0a5b487-c19a-4068-9c1a-9d9a42f81689')\"\n",
              "              title=\"Convert this dataframe to an interactive table.\"\n",
              "              style=\"display:none;\">\n",
              "        \n",
              "  <svg xmlns=\"http://www.w3.org/2000/svg\" height=\"24px\"viewBox=\"0 0 24 24\"\n",
              "       width=\"24px\">\n",
              "    <path d=\"M0 0h24v24H0V0z\" fill=\"none\"/>\n",
              "    <path d=\"M18.56 5.44l.94 2.06.94-2.06 2.06-.94-2.06-.94-.94-2.06-.94 2.06-2.06.94zm-11 1L8.5 8.5l.94-2.06 2.06-.94-2.06-.94L8.5 2.5l-.94 2.06-2.06.94zm10 10l.94 2.06.94-2.06 2.06-.94-2.06-.94-.94-2.06-.94 2.06-2.06.94z\"/><path d=\"M17.41 7.96l-1.37-1.37c-.4-.4-.92-.59-1.43-.59-.52 0-1.04.2-1.43.59L10.3 9.45l-7.72 7.72c-.78.78-.78 2.05 0 2.83L4 21.41c.39.39.9.59 1.41.59.51 0 1.02-.2 1.41-.59l7.78-7.78 2.81-2.81c.8-.78.8-2.07 0-2.86zM5.41 20L4 18.59l7.72-7.72 1.47 1.35L5.41 20z\"/>\n",
              "  </svg>\n",
              "      </button>\n",
              "      \n",
              "  <style>\n",
              "    .colab-df-container {\n",
              "      display:flex;\n",
              "      flex-wrap:wrap;\n",
              "      gap: 12px;\n",
              "    }\n",
              "\n",
              "    .colab-df-convert {\n",
              "      background-color: #E8F0FE;\n",
              "      border: none;\n",
              "      border-radius: 50%;\n",
              "      cursor: pointer;\n",
              "      display: none;\n",
              "      fill: #1967D2;\n",
              "      height: 32px;\n",
              "      padding: 0 0 0 0;\n",
              "      width: 32px;\n",
              "    }\n",
              "\n",
              "    .colab-df-convert:hover {\n",
              "      background-color: #E2EBFA;\n",
              "      box-shadow: 0px 1px 2px rgba(60, 64, 67, 0.3), 0px 1px 3px 1px rgba(60, 64, 67, 0.15);\n",
              "      fill: #174EA6;\n",
              "    }\n",
              "\n",
              "    [theme=dark] .colab-df-convert {\n",
              "      background-color: #3B4455;\n",
              "      fill: #D2E3FC;\n",
              "    }\n",
              "\n",
              "    [theme=dark] .colab-df-convert:hover {\n",
              "      background-color: #434B5C;\n",
              "      box-shadow: 0px 1px 3px 1px rgba(0, 0, 0, 0.15);\n",
              "      filter: drop-shadow(0px 1px 2px rgba(0, 0, 0, 0.3));\n",
              "      fill: #FFFFFF;\n",
              "    }\n",
              "  </style>\n",
              "\n",
              "      <script>\n",
              "        const buttonEl =\n",
              "          document.querySelector('#df-c0a5b487-c19a-4068-9c1a-9d9a42f81689 button.colab-df-convert');\n",
              "        buttonEl.style.display =\n",
              "          google.colab.kernel.accessAllowed ? 'block' : 'none';\n",
              "\n",
              "        async function convertToInteractive(key) {\n",
              "          const element = document.querySelector('#df-c0a5b487-c19a-4068-9c1a-9d9a42f81689');\n",
              "          const dataTable =\n",
              "            await google.colab.kernel.invokeFunction('convertToInteractive',\n",
              "                                                     [key], {});\n",
              "          if (!dataTable) return;\n",
              "\n",
              "          const docLinkHtml = 'Like what you see? Visit the ' +\n",
              "            '<a target=\"_blank\" href=https://colab.research.google.com/notebooks/data_table.ipynb>data table notebook</a>'\n",
              "            + ' to learn more about interactive tables.';\n",
              "          element.innerHTML = '';\n",
              "          dataTable['output_type'] = 'display_data';\n",
              "          await google.colab.output.renderOutput(dataTable, element);\n",
              "          const docLink = document.createElement('div');\n",
              "          docLink.innerHTML = docLinkHtml;\n",
              "          element.appendChild(docLink);\n",
              "        }\n",
              "      </script>\n",
              "    </div>\n",
              "  </div>\n",
              "  "
            ]
          },
          "metadata": {},
          "execution_count": 45
        }
      ]
    },
    {
      "cell_type": "code",
      "source": [
        "data['intent'].unique()"
      ],
      "metadata": {
        "id": "4okO9zUz95Ma",
        "colab": {
          "base_uri": "https://localhost:8080/"
        },
        "outputId": "45a0ae0a-c8fe-4f4b-c028-b80eb5f31732"
      },
      "execution_count": 46,
      "outputs": [
        {
          "output_type": "execute_result",
          "data": {
            "text/plain": [
              "array(['atis_flight', 'atis_flight_time', 'atis_airfare', 'atis_aircraft',\n",
              "       'atis_ground_service', 'atis_airport', 'atis_airline',\n",
              "       'atis_distance', 'atis_abbreviation', 'atis_ground_fare',\n",
              "       'atis_quantity', 'atis_city', 'atis_flight_no', 'atis_capacity',\n",
              "       'atis_flight#atis_airfare', 'atis_meal', 'atis_restriction',\n",
              "       'atis_airline#atis_flight_no',\n",
              "       'atis_ground_service#atis_ground_fare',\n",
              "       'atis_airfare#atis_flight_time', 'atis_cheapest',\n",
              "       'atis_aircraft#atis_flight#atis_flight_no'], dtype=object)"
            ]
          },
          "metadata": {},
          "execution_count": 46
        }
      ]
    },
    {
      "cell_type": "code",
      "source": [
        "data['intent'].nunique()"
      ],
      "metadata": {
        "colab": {
          "base_uri": "https://localhost:8080/"
        },
        "id": "ZH4CI6JCUE-W",
        "outputId": "981e08e8-6190-44e1-bdb7-c3ba3afa4939"
      },
      "execution_count": 47,
      "outputs": [
        {
          "output_type": "execute_result",
          "data": {
            "text/plain": [
              "22"
            ]
          },
          "metadata": {},
          "execution_count": 47
        }
      ]
    },
    {
      "cell_type": "markdown",
      "source": [
        "Removing unnecessary characters and words from intent classes"
      ],
      "metadata": {
        "id": "2F_nhf1D40x9"
      }
    },
    {
      "cell_type": "code",
      "source": [
        "data['intent'] = data['intent'].str.replace('#','_')\n",
        "data['intent'].unique()"
      ],
      "metadata": {
        "colab": {
          "base_uri": "https://localhost:8080/"
        },
        "id": "iksTRgvnUaGG",
        "outputId": "073d0e22-f0bf-42d6-d7c6-28f1095d7fe4"
      },
      "execution_count": 48,
      "outputs": [
        {
          "output_type": "execute_result",
          "data": {
            "text/plain": [
              "array(['atis_flight', 'atis_flight_time', 'atis_airfare', 'atis_aircraft',\n",
              "       'atis_ground_service', 'atis_airport', 'atis_airline',\n",
              "       'atis_distance', 'atis_abbreviation', 'atis_ground_fare',\n",
              "       'atis_quantity', 'atis_city', 'atis_flight_no', 'atis_capacity',\n",
              "       'atis_flight_atis_airfare', 'atis_meal', 'atis_restriction',\n",
              "       'atis_airline_atis_flight_no',\n",
              "       'atis_ground_service_atis_ground_fare',\n",
              "       'atis_airfare_atis_flight_time', 'atis_cheapest',\n",
              "       'atis_aircraft_atis_flight_atis_flight_no'], dtype=object)"
            ]
          },
          "metadata": {},
          "execution_count": 48
        }
      ]
    },
    {
      "cell_type": "code",
      "source": [
        "data['intent'] = data['intent'].str.replace('atis_','')\n",
        "data['intent'].unique()"
      ],
      "metadata": {
        "colab": {
          "base_uri": "https://localhost:8080/"
        },
        "id": "Fs4piKWrUn2X",
        "outputId": "41688629-5a43-4d85-e59b-43a501d13f76"
      },
      "execution_count": 49,
      "outputs": [
        {
          "output_type": "execute_result",
          "data": {
            "text/plain": [
              "array(['flight', 'flight_time', 'airfare', 'aircraft', 'ground_service',\n",
              "       'airport', 'airline', 'distance', 'abbreviation', 'ground_fare',\n",
              "       'quantity', 'city', 'flight_no', 'capacity', 'flight_airfare',\n",
              "       'meal', 'restriction', 'airline_flight_no',\n",
              "       'ground_service_ground_fare', 'airfare_flight_time', 'cheapest',\n",
              "       'aircraft_flight_flight_no'], dtype=object)"
            ]
          },
          "metadata": {},
          "execution_count": 49
        }
      ]
    },
    {
      "cell_type": "code",
      "source": [
        "data['intent'].value_counts()"
      ],
      "metadata": {
        "colab": {
          "base_uri": "https://localhost:8080/"
        },
        "id": "kTJwI3siU2A2",
        "outputId": "282c38fc-9e7b-435c-8272-ac33e8938518"
      },
      "execution_count": 50,
      "outputs": [
        {
          "output_type": "execute_result",
          "data": {
            "text/plain": [
              "flight                        3666\n",
              "airfare                        423\n",
              "ground_service                 255\n",
              "airline                        157\n",
              "abbreviation                   147\n",
              "aircraft                        81\n",
              "flight_time                     54\n",
              "quantity                        51\n",
              "flight_airfare                  21\n",
              "airport                         20\n",
              "distance                        20\n",
              "city                            19\n",
              "ground_fare                     18\n",
              "capacity                        16\n",
              "flight_no                       12\n",
              "meal                             6\n",
              "restriction                      6\n",
              "airline_flight_no                2\n",
              "ground_service_ground_fare       1\n",
              "airfare_flight_time              1\n",
              "cheapest                         1\n",
              "aircraft_flight_flight_no        1\n",
              "Name: intent, dtype: int64"
            ]
          },
          "metadata": {},
          "execution_count": 50
        }
      ]
    },
    {
      "cell_type": "markdown",
      "source": [
        "Reducing our data to only five intent classes with 40 samples each. Not recommended as samples of each class should be atleast 100 but this will save training cost (as this notebook is only for educational purposes)"
      ],
      "metadata": {
        "id": "cUayccpi5Jpn"
      }
    },
    {
      "cell_type": "code",
      "source": [
        "labels = ['flight','ground_service','airfare','abbreviation','flight_time']\n",
        "data = data[data[\"intent\"].isin(labels)]\n",
        "data['intent'].value_counts()"
      ],
      "metadata": {
        "colab": {
          "base_uri": "https://localhost:8080/"
        },
        "id": "1RCNa2zoVrdH",
        "outputId": "9cdbb935-10a5-4240-8e43-52cadfb8afaf"
      },
      "execution_count": 51,
      "outputs": [
        {
          "output_type": "execute_result",
          "data": {
            "text/plain": [
              "flight            3666\n",
              "airfare            423\n",
              "ground_service     255\n",
              "abbreviation       147\n",
              "flight_time         54\n",
              "Name: intent, dtype: int64"
            ]
          },
          "metadata": {},
          "execution_count": 51
        }
      ]
    },
    {
      "cell_type": "code",
      "source": [
        "sample_data = data.groupby('intent').apply(lambda x: x.sample(n=40)).reset_index(drop = True)"
      ],
      "metadata": {
        "id": "PPUA5-kyWAgH"
      },
      "execution_count": null,
      "outputs": []
    },
    {
      "cell_type": "code",
      "source": [
        "sample_data['intent'].value_counts()"
      ],
      "metadata": {
        "colab": {
          "base_uri": "https://localhost:8080/"
        },
        "id": "Wx9ScEEiWgVH",
        "outputId": "114839d4-e60e-4c8d-ceb6-16ebf03a718c"
      },
      "execution_count": 53,
      "outputs": [
        {
          "output_type": "execute_result",
          "data": {
            "text/plain": [
              "abbreviation      40\n",
              "airfare           40\n",
              "flight            40\n",
              "flight_time       40\n",
              "ground_service    40\n",
              "Name: intent, dtype: int64"
            ]
          },
          "metadata": {},
          "execution_count": 53
        }
      ]
    },
    {
      "cell_type": "code",
      "source": [
        "sample_data.to_csv(\"sample_data.csv\",index=False)"
      ],
      "metadata": {
        "id": "pGGW7iI-W064"
      },
      "execution_count": 54,
      "outputs": []
    },
    {
      "cell_type": "code",
      "source": [
        "sample_data = sample_data[['text','intent']]\n",
        "sample_data.head()"
      ],
      "metadata": {
        "id": "ZLoCTlekXd73"
      },
      "execution_count": null,
      "outputs": []
    },
    {
      "cell_type": "code",
      "source": [
        "#Leave no extra space on left or right - sanity check\n",
        "sample_data['text'] = sample_data['text'].str.strip()\n",
        "sample_data['intent'] = sample_data['intent'].str.strip()"
      ],
      "metadata": {
        "id": "meZVDvwBXhu3"
      },
      "execution_count": 56,
      "outputs": []
    },
    {
      "cell_type": "markdown",
      "source": [
        "Adding end tokens to prompt and response"
      ],
      "metadata": {
        "id": "SE-OERbc756_"
      }
    },
    {
      "cell_type": "code",
      "source": [
        "sample_data['text'] = sample_data['text'] + \"\\n\\nIntent:\\n\\n\"\n",
        "# sample_data['text'] = \"Classify text into on the intent: flight, ground_service, airline, aircraft, flight_time. Text: \"+sample_data['text'] + \"\\n\\nIntent:\\n\\n\"\n",
        "sample_data['intent'] = \" \"+sample_data['intent'] + \" END\"\n",
        "sample_data.head()"
      ],
      "metadata": {
        "id": "0WXjMC-pXxs2",
        "colab": {
          "base_uri": "https://localhost:8080/",
          "height": 206
        },
        "outputId": "9674dfb4-e992-48c5-ea7b-46362075214e"
      },
      "execution_count": 57,
      "outputs": [
        {
          "output_type": "execute_result",
          "data": {
            "text/plain": [
              "                                                text             intent\n",
              "0      what does the fare code y mean\\n\\nIntent:\\n\\n   abbreviation END\n",
              "1  could you tell me what the abbreviation us sta...   abbreviation END\n",
              "2                 what is fare code m\\n\\nIntent:\\n\\n   abbreviation END\n",
              "3                          what is sa\\n\\nIntent:\\n\\n   abbreviation END\n",
              "4        what is the ap57 restriction\\n\\nIntent:\\n\\n   abbreviation END"
            ],
            "text/html": [
              "\n",
              "  <div id=\"df-cd3d87ed-8a18-402d-b296-f4ba3b766586\">\n",
              "    <div class=\"colab-df-container\">\n",
              "      <div>\n",
              "<style scoped>\n",
              "    .dataframe tbody tr th:only-of-type {\n",
              "        vertical-align: middle;\n",
              "    }\n",
              "\n",
              "    .dataframe tbody tr th {\n",
              "        vertical-align: top;\n",
              "    }\n",
              "\n",
              "    .dataframe thead th {\n",
              "        text-align: right;\n",
              "    }\n",
              "</style>\n",
              "<table border=\"1\" class=\"dataframe\">\n",
              "  <thead>\n",
              "    <tr style=\"text-align: right;\">\n",
              "      <th></th>\n",
              "      <th>text</th>\n",
              "      <th>intent</th>\n",
              "    </tr>\n",
              "  </thead>\n",
              "  <tbody>\n",
              "    <tr>\n",
              "      <th>0</th>\n",
              "      <td>what does the fare code y mean\\n\\nIntent:\\n\\n</td>\n",
              "      <td>abbreviation END</td>\n",
              "    </tr>\n",
              "    <tr>\n",
              "      <th>1</th>\n",
              "      <td>could you tell me what the abbreviation us sta...</td>\n",
              "      <td>abbreviation END</td>\n",
              "    </tr>\n",
              "    <tr>\n",
              "      <th>2</th>\n",
              "      <td>what is fare code m\\n\\nIntent:\\n\\n</td>\n",
              "      <td>abbreviation END</td>\n",
              "    </tr>\n",
              "    <tr>\n",
              "      <th>3</th>\n",
              "      <td>what is sa\\n\\nIntent:\\n\\n</td>\n",
              "      <td>abbreviation END</td>\n",
              "    </tr>\n",
              "    <tr>\n",
              "      <th>4</th>\n",
              "      <td>what is the ap57 restriction\\n\\nIntent:\\n\\n</td>\n",
              "      <td>abbreviation END</td>\n",
              "    </tr>\n",
              "  </tbody>\n",
              "</table>\n",
              "</div>\n",
              "      <button class=\"colab-df-convert\" onclick=\"convertToInteractive('df-cd3d87ed-8a18-402d-b296-f4ba3b766586')\"\n",
              "              title=\"Convert this dataframe to an interactive table.\"\n",
              "              style=\"display:none;\">\n",
              "        \n",
              "  <svg xmlns=\"http://www.w3.org/2000/svg\" height=\"24px\"viewBox=\"0 0 24 24\"\n",
              "       width=\"24px\">\n",
              "    <path d=\"M0 0h24v24H0V0z\" fill=\"none\"/>\n",
              "    <path d=\"M18.56 5.44l.94 2.06.94-2.06 2.06-.94-2.06-.94-.94-2.06-.94 2.06-2.06.94zm-11 1L8.5 8.5l.94-2.06 2.06-.94-2.06-.94L8.5 2.5l-.94 2.06-2.06.94zm10 10l.94 2.06.94-2.06 2.06-.94-2.06-.94-.94-2.06-.94 2.06-2.06.94z\"/><path d=\"M17.41 7.96l-1.37-1.37c-.4-.4-.92-.59-1.43-.59-.52 0-1.04.2-1.43.59L10.3 9.45l-7.72 7.72c-.78.78-.78 2.05 0 2.83L4 21.41c.39.39.9.59 1.41.59.51 0 1.02-.2 1.41-.59l7.78-7.78 2.81-2.81c.8-.78.8-2.07 0-2.86zM5.41 20L4 18.59l7.72-7.72 1.47 1.35L5.41 20z\"/>\n",
              "  </svg>\n",
              "      </button>\n",
              "      \n",
              "  <style>\n",
              "    .colab-df-container {\n",
              "      display:flex;\n",
              "      flex-wrap:wrap;\n",
              "      gap: 12px;\n",
              "    }\n",
              "\n",
              "    .colab-df-convert {\n",
              "      background-color: #E8F0FE;\n",
              "      border: none;\n",
              "      border-radius: 50%;\n",
              "      cursor: pointer;\n",
              "      display: none;\n",
              "      fill: #1967D2;\n",
              "      height: 32px;\n",
              "      padding: 0 0 0 0;\n",
              "      width: 32px;\n",
              "    }\n",
              "\n",
              "    .colab-df-convert:hover {\n",
              "      background-color: #E2EBFA;\n",
              "      box-shadow: 0px 1px 2px rgba(60, 64, 67, 0.3), 0px 1px 3px 1px rgba(60, 64, 67, 0.15);\n",
              "      fill: #174EA6;\n",
              "    }\n",
              "\n",
              "    [theme=dark] .colab-df-convert {\n",
              "      background-color: #3B4455;\n",
              "      fill: #D2E3FC;\n",
              "    }\n",
              "\n",
              "    [theme=dark] .colab-df-convert:hover {\n",
              "      background-color: #434B5C;\n",
              "      box-shadow: 0px 1px 3px 1px rgba(0, 0, 0, 0.15);\n",
              "      filter: drop-shadow(0px 1px 2px rgba(0, 0, 0, 0.3));\n",
              "      fill: #FFFFFF;\n",
              "    }\n",
              "  </style>\n",
              "\n",
              "      <script>\n",
              "        const buttonEl =\n",
              "          document.querySelector('#df-cd3d87ed-8a18-402d-b296-f4ba3b766586 button.colab-df-convert');\n",
              "        buttonEl.style.display =\n",
              "          google.colab.kernel.accessAllowed ? 'block' : 'none';\n",
              "\n",
              "        async function convertToInteractive(key) {\n",
              "          const element = document.querySelector('#df-cd3d87ed-8a18-402d-b296-f4ba3b766586');\n",
              "          const dataTable =\n",
              "            await google.colab.kernel.invokeFunction('convertToInteractive',\n",
              "                                                     [key], {});\n",
              "          if (!dataTable) return;\n",
              "\n",
              "          const docLinkHtml = 'Like what you see? Visit the ' +\n",
              "            '<a target=\"_blank\" href=https://colab.research.google.com/notebooks/data_table.ipynb>data table notebook</a>'\n",
              "            + ' to learn more about interactive tables.';\n",
              "          element.innerHTML = '';\n",
              "          dataTable['output_type'] = 'display_data';\n",
              "          await google.colab.output.renderOutput(dataTable, element);\n",
              "          const docLink = document.createElement('div');\n",
              "          docLink.innerHTML = docLinkHtml;\n",
              "          element.appendChild(docLink);\n",
              "        }\n",
              "      </script>\n",
              "    </div>\n",
              "  </div>\n",
              "  "
            ]
          },
          "metadata": {},
          "execution_count": 57
        }
      ]
    },
    {
      "cell_type": "code",
      "source": [
        "print(sample_data['text'][0])"
      ],
      "metadata": {
        "colab": {
          "base_uri": "https://localhost:8080/"
        },
        "id": "FnOzuXUpLDgF",
        "outputId": "d2605c92-991c-4815-9319-fc0336b161a3"
      },
      "execution_count": 58,
      "outputs": [
        {
          "output_type": "stream",
          "name": "stdout",
          "text": [
            "what does the fare code y mean\n",
            "\n",
            "Intent:\n",
            "\n",
            "\n"
          ]
        }
      ]
    },
    {
      "cell_type": "code",
      "source": [
        "print(sample_data['intent'][0])"
      ],
      "metadata": {
        "colab": {
          "base_uri": "https://localhost:8080/"
        },
        "id": "mcnPXF30PDj4",
        "outputId": "c1dc4fd6-7c11-4ca5-df22-0a40ef173548"
      },
      "execution_count": 59,
      "outputs": [
        {
          "output_type": "stream",
          "name": "stdout",
          "text": [
            " abbreviation END\n"
          ]
        }
      ]
    },
    {
      "cell_type": "markdown",
      "source": [
        "To prepare data for training, we change the columns name to prompt and completion"
      ],
      "metadata": {
        "id": "WheVoSUs6KvE"
      }
    },
    {
      "cell_type": "code",
      "source": [
        "sample_data.columns = ['prompt','completion']\n",
        "sample_data.head()"
      ],
      "metadata": {
        "colab": {
          "base_uri": "https://localhost:8080/",
          "height": 206
        },
        "id": "0af9m_LkXxyG",
        "outputId": "ab900c44-1d96-40c1-d700-577c255bd7e8"
      },
      "execution_count": 61,
      "outputs": [
        {
          "output_type": "execute_result",
          "data": {
            "text/plain": [
              "                                              prompt         completion\n",
              "0      what does the fare code y mean\\n\\nIntent:\\n\\n   abbreviation END\n",
              "1  could you tell me what the abbreviation us sta...   abbreviation END\n",
              "2                 what is fare code m\\n\\nIntent:\\n\\n   abbreviation END\n",
              "3                          what is sa\\n\\nIntent:\\n\\n   abbreviation END\n",
              "4        what is the ap57 restriction\\n\\nIntent:\\n\\n   abbreviation END"
            ],
            "text/html": [
              "\n",
              "  <div id=\"df-b3c99a29-84ae-44ae-aa24-dbdc449989b0\">\n",
              "    <div class=\"colab-df-container\">\n",
              "      <div>\n",
              "<style scoped>\n",
              "    .dataframe tbody tr th:only-of-type {\n",
              "        vertical-align: middle;\n",
              "    }\n",
              "\n",
              "    .dataframe tbody tr th {\n",
              "        vertical-align: top;\n",
              "    }\n",
              "\n",
              "    .dataframe thead th {\n",
              "        text-align: right;\n",
              "    }\n",
              "</style>\n",
              "<table border=\"1\" class=\"dataframe\">\n",
              "  <thead>\n",
              "    <tr style=\"text-align: right;\">\n",
              "      <th></th>\n",
              "      <th>prompt</th>\n",
              "      <th>completion</th>\n",
              "    </tr>\n",
              "  </thead>\n",
              "  <tbody>\n",
              "    <tr>\n",
              "      <th>0</th>\n",
              "      <td>what does the fare code y mean\\n\\nIntent:\\n\\n</td>\n",
              "      <td>abbreviation END</td>\n",
              "    </tr>\n",
              "    <tr>\n",
              "      <th>1</th>\n",
              "      <td>could you tell me what the abbreviation us sta...</td>\n",
              "      <td>abbreviation END</td>\n",
              "    </tr>\n",
              "    <tr>\n",
              "      <th>2</th>\n",
              "      <td>what is fare code m\\n\\nIntent:\\n\\n</td>\n",
              "      <td>abbreviation END</td>\n",
              "    </tr>\n",
              "    <tr>\n",
              "      <th>3</th>\n",
              "      <td>what is sa\\n\\nIntent:\\n\\n</td>\n",
              "      <td>abbreviation END</td>\n",
              "    </tr>\n",
              "    <tr>\n",
              "      <th>4</th>\n",
              "      <td>what is the ap57 restriction\\n\\nIntent:\\n\\n</td>\n",
              "      <td>abbreviation END</td>\n",
              "    </tr>\n",
              "  </tbody>\n",
              "</table>\n",
              "</div>\n",
              "      <button class=\"colab-df-convert\" onclick=\"convertToInteractive('df-b3c99a29-84ae-44ae-aa24-dbdc449989b0')\"\n",
              "              title=\"Convert this dataframe to an interactive table.\"\n",
              "              style=\"display:none;\">\n",
              "        \n",
              "  <svg xmlns=\"http://www.w3.org/2000/svg\" height=\"24px\"viewBox=\"0 0 24 24\"\n",
              "       width=\"24px\">\n",
              "    <path d=\"M0 0h24v24H0V0z\" fill=\"none\"/>\n",
              "    <path d=\"M18.56 5.44l.94 2.06.94-2.06 2.06-.94-2.06-.94-.94-2.06-.94 2.06-2.06.94zm-11 1L8.5 8.5l.94-2.06 2.06-.94-2.06-.94L8.5 2.5l-.94 2.06-2.06.94zm10 10l.94 2.06.94-2.06 2.06-.94-2.06-.94-.94-2.06-.94 2.06-2.06.94z\"/><path d=\"M17.41 7.96l-1.37-1.37c-.4-.4-.92-.59-1.43-.59-.52 0-1.04.2-1.43.59L10.3 9.45l-7.72 7.72c-.78.78-.78 2.05 0 2.83L4 21.41c.39.39.9.59 1.41.59.51 0 1.02-.2 1.41-.59l7.78-7.78 2.81-2.81c.8-.78.8-2.07 0-2.86zM5.41 20L4 18.59l7.72-7.72 1.47 1.35L5.41 20z\"/>\n",
              "  </svg>\n",
              "      </button>\n",
              "      \n",
              "  <style>\n",
              "    .colab-df-container {\n",
              "      display:flex;\n",
              "      flex-wrap:wrap;\n",
              "      gap: 12px;\n",
              "    }\n",
              "\n",
              "    .colab-df-convert {\n",
              "      background-color: #E8F0FE;\n",
              "      border: none;\n",
              "      border-radius: 50%;\n",
              "      cursor: pointer;\n",
              "      display: none;\n",
              "      fill: #1967D2;\n",
              "      height: 32px;\n",
              "      padding: 0 0 0 0;\n",
              "      width: 32px;\n",
              "    }\n",
              "\n",
              "    .colab-df-convert:hover {\n",
              "      background-color: #E2EBFA;\n",
              "      box-shadow: 0px 1px 2px rgba(60, 64, 67, 0.3), 0px 1px 3px 1px rgba(60, 64, 67, 0.15);\n",
              "      fill: #174EA6;\n",
              "    }\n",
              "\n",
              "    [theme=dark] .colab-df-convert {\n",
              "      background-color: #3B4455;\n",
              "      fill: #D2E3FC;\n",
              "    }\n",
              "\n",
              "    [theme=dark] .colab-df-convert:hover {\n",
              "      background-color: #434B5C;\n",
              "      box-shadow: 0px 1px 3px 1px rgba(0, 0, 0, 0.15);\n",
              "      filter: drop-shadow(0px 1px 2px rgba(0, 0, 0, 0.3));\n",
              "      fill: #FFFFFF;\n",
              "    }\n",
              "  </style>\n",
              "\n",
              "      <script>\n",
              "        const buttonEl =\n",
              "          document.querySelector('#df-b3c99a29-84ae-44ae-aa24-dbdc449989b0 button.colab-df-convert');\n",
              "        buttonEl.style.display =\n",
              "          google.colab.kernel.accessAllowed ? 'block' : 'none';\n",
              "\n",
              "        async function convertToInteractive(key) {\n",
              "          const element = document.querySelector('#df-b3c99a29-84ae-44ae-aa24-dbdc449989b0');\n",
              "          const dataTable =\n",
              "            await google.colab.kernel.invokeFunction('convertToInteractive',\n",
              "                                                     [key], {});\n",
              "          if (!dataTable) return;\n",
              "\n",
              "          const docLinkHtml = 'Like what you see? Visit the ' +\n",
              "            '<a target=\"_blank\" href=https://colab.research.google.com/notebooks/data_table.ipynb>data table notebook</a>'\n",
              "            + ' to learn more about interactive tables.';\n",
              "          element.innerHTML = '';\n",
              "          dataTable['output_type'] = 'display_data';\n",
              "          await google.colab.output.renderOutput(dataTable, element);\n",
              "          const docLink = document.createElement('div');\n",
              "          docLink.innerHTML = docLinkHtml;\n",
              "          element.appendChild(docLink);\n",
              "        }\n",
              "      </script>\n",
              "    </div>\n",
              "  </div>\n",
              "  "
            ]
          },
          "metadata": {},
          "execution_count": 61
        }
      ]
    },
    {
      "cell_type": "markdown",
      "source": [
        "Converting our pandas dataframe to jsonl file (required format for gpt3 finetuning)"
      ],
      "metadata": {
        "id": "DCJ6ClRJ6TEY"
      }
    },
    {
      "cell_type": "code",
      "source": [
        "sample_data.to_json(\"intent_sample.jsonl\", orient='records', lines=True)"
      ],
      "metadata": {
        "id": "DHeeWbVLYag7"
      },
      "execution_count": 62,
      "outputs": []
    },
    {
      "cell_type": "markdown",
      "source": [
        "# Finetuning GPT3"
      ],
      "metadata": {
        "id": "MaCcHXEb6d5N"
      }
    },
    {
      "cell_type": "markdown",
      "source": [
        "Installing openAI"
      ],
      "metadata": {
        "id": "XMu0oZrR6g0b"
      }
    },
    {
      "cell_type": "code",
      "source": [
        "!pip install --upgrade openai"
      ],
      "metadata": {
        "colab": {
          "base_uri": "https://localhost:8080/"
        },
        "id": "-6lo2zB2Yhh3",
        "outputId": "a94b4745-e34f-4b29-e7f0-8354b222d67f"
      },
      "execution_count": 63,
      "outputs": [
        {
          "output_type": "stream",
          "name": "stdout",
          "text": [
            "Looking in indexes: https://pypi.org/simple, https://us-python.pkg.dev/colab-wheels/public/simple/\n",
            "Collecting openai\n",
            "  Downloading openai-0.26.5.tar.gz (55 kB)\n",
            "\u001b[2K     \u001b[90m━━━━━━━━━━━━━━━━━━━━━━━━━━━━━━━━━━━━━━━━\u001b[0m \u001b[32m55.5/55.5 KB\u001b[0m \u001b[31m2.9 MB/s\u001b[0m eta \u001b[36m0:00:00\u001b[0m\n",
            "\u001b[?25h  Installing build dependencies ... \u001b[?25l\u001b[?25hdone\n",
            "  Getting requirements to build wheel ... \u001b[?25l\u001b[?25hdone\n",
            "  Installing backend dependencies ... \u001b[?25l\u001b[?25hdone\n",
            "  Preparing metadata (pyproject.toml) ... \u001b[?25l\u001b[?25hdone\n",
            "Requirement already satisfied: requests>=2.20 in /usr/local/lib/python3.8/dist-packages (from openai) (2.25.1)\n",
            "Requirement already satisfied: aiohttp in /usr/local/lib/python3.8/dist-packages (from openai) (3.8.3)\n",
            "Requirement already satisfied: tqdm in /usr/local/lib/python3.8/dist-packages (from openai) (4.64.1)\n",
            "Requirement already satisfied: chardet<5,>=3.0.2 in /usr/local/lib/python3.8/dist-packages (from requests>=2.20->openai) (4.0.0)\n",
            "Requirement already satisfied: idna<3,>=2.5 in /usr/local/lib/python3.8/dist-packages (from requests>=2.20->openai) (2.10)\n",
            "Requirement already satisfied: urllib3<1.27,>=1.21.1 in /usr/local/lib/python3.8/dist-packages (from requests>=2.20->openai) (1.24.3)\n",
            "Requirement already satisfied: certifi>=2017.4.17 in /usr/local/lib/python3.8/dist-packages (from requests>=2.20->openai) (2022.12.7)\n",
            "Requirement already satisfied: async-timeout<5.0,>=4.0.0a3 in /usr/local/lib/python3.8/dist-packages (from aiohttp->openai) (4.0.2)\n",
            "Requirement already satisfied: multidict<7.0,>=4.5 in /usr/local/lib/python3.8/dist-packages (from aiohttp->openai) (6.0.4)\n",
            "Requirement already satisfied: charset-normalizer<3.0,>=2.0 in /usr/local/lib/python3.8/dist-packages (from aiohttp->openai) (2.1.1)\n",
            "Requirement already satisfied: yarl<2.0,>=1.0 in /usr/local/lib/python3.8/dist-packages (from aiohttp->openai) (1.8.2)\n",
            "Requirement already satisfied: aiosignal>=1.1.2 in /usr/local/lib/python3.8/dist-packages (from aiohttp->openai) (1.3.1)\n",
            "Requirement already satisfied: attrs>=17.3.0 in /usr/local/lib/python3.8/dist-packages (from aiohttp->openai) (22.2.0)\n",
            "Requirement already satisfied: frozenlist>=1.1.1 in /usr/local/lib/python3.8/dist-packages (from aiohttp->openai) (1.3.3)\n",
            "Building wheels for collected packages: openai\n",
            "  Building wheel for openai (pyproject.toml) ... \u001b[?25l\u001b[?25hdone\n",
            "  Created wheel for openai: filename=openai-0.26.5-py3-none-any.whl size=67620 sha256=e2dc811b0fb4f777e181ac0f136180725089a4c58d40fa264da958d5d3d06b25\n",
            "  Stored in directory: /root/.cache/pip/wheels/a7/47/99/8273a59fbd59c303e8ff175416d5c1c9c03a2e83ebf7525a99\n",
            "Successfully built openai\n",
            "Installing collected packages: openai\n",
            "Successfully installed openai-0.26.5\n"
          ]
        }
      ]
    },
    {
      "cell_type": "markdown",
      "source": [
        "Uploading training data"
      ],
      "metadata": {
        "id": "LNYQ_rAo7VoE"
      }
    },
    {
      "cell_type": "code",
      "source": [
        "!openai tools fine_tunes.prepare_data -f intent_sample.jsonl\n"
      ],
      "metadata": {
        "colab": {
          "base_uri": "https://localhost:8080/"
        },
        "id": "XqT-deL4ZG-z",
        "outputId": "7cec5dbe-71e1-4607-9f7b-2c23b558b8c8"
      },
      "execution_count": 64,
      "outputs": [
        {
          "output_type": "stream",
          "name": "stdout",
          "text": [
            "Analyzing...\n",
            "\n",
            "- Your file contains 200 prompt-completion pairs\n",
            "- Based on your data it seems like you're trying to fine-tune a model for classification\n",
            "- For classification, we recommend you try one of the faster and cheaper models, such as `ada`\n",
            "- For classification, you can estimate the expected model performance by keeping a held out dataset, which is not used for training\n",
            "- There are 9 duplicated prompt-completion sets. These are rows: [16, 20, 26, 27, 28, 32, 35, 36, 37]\n",
            "- All prompts end with suffix `\\n\\nIntent:\\n\\n`. This suffix seems very long. Consider replacing with a shorter suffix, such as `\\n\\n###\\n\\n`\n",
            "\n",
            "Based on the analysis we will perform the following actions:\n",
            "- [Recommended] Remove 9 duplicate rows [Y/n]: y\n",
            "- [Recommended] Would you like to split into training and validation set? [Y/n]: y\n",
            "\n",
            "\n",
            "Your data will be written to a new JSONL file. Proceed [Y/n]: y\n",
            "\n",
            "Wrote modified files to `intent_sample_prepared_train.jsonl` and `intent_sample_prepared_valid.jsonl`\n",
            "Feel free to take a look!\n",
            "\n",
            "Now use that file when fine-tuning:\n",
            "> openai api fine_tunes.create -t \"intent_sample_prepared_train.jsonl\" -v \"intent_sample_prepared_valid.jsonl\" --compute_classification_metrics --classification_n_classes 5\n",
            "\n",
            "After you’ve fine-tuned a model, remember that your prompt has to end with the indicator string `\\n\\nIntent:\\n\\n` for the model to start generating completions, rather than continuing with the prompt. Make sure to include `stop=[\" END\"]` so that the generated texts ends at the expected place.\n",
            "Once your model starts training, it'll approximately take 6.92 minutes to train a `curie` model, and less for `ada` and `babbage`. Queue will approximately take half an hour per job ahead of you.\n"
          ]
        }
      ]
    },
    {
      "cell_type": "markdown",
      "source": [
        "Loading API key"
      ],
      "metadata": {
        "id": "N0mUXopU7kCY"
      }
    },
    {
      "cell_type": "code",
      "source": [
        "import os\n",
        "os.environ['OPENAI_API_KEY'] = \"your openai api key\""
      ],
      "metadata": {
        "id": "WbyTh9nDdwUd"
      },
      "execution_count": 65,
      "outputs": []
    },
    {
      "cell_type": "markdown",
      "source": [
        "Starting finetuning"
      ],
      "metadata": {
        "id": "pIlrVl6k7nWq"
      }
    },
    {
      "cell_type": "code",
      "source": [
        "!openai api fine_tunes.create -t \"intent_sample_prepared_train.jsonl\" -v \"intent_sample_prepared_valid.jsonl\" -m 'davinci'"
      ],
      "metadata": {
        "id": "jQxQFxjNmOSw"
      },
      "execution_count": null,
      "outputs": []
    },
    {
      "cell_type": "code",
      "source": [
        "!openai api fine_tunes.follow -i ft-ujcjyJIzsG9rXuLfobVc6yaV"
      ],
      "metadata": {
        "colab": {
          "base_uri": "https://localhost:8080/"
        },
        "id": "-2P90PAnm5Yw",
        "outputId": "f585b88b-7229-4b48-863c-510cb1e2f1a0"
      },
      "execution_count": 70,
      "outputs": [
        {
          "output_type": "stream",
          "name": "stdout",
          "text": [
            "[2023-02-14 15:47:03] Created fine-tune: ft-ujcjyJIzsG9rXuLfobVc6yaV\n",
            "[2023-02-14 15:53:26] Fine-tune costs $0.40\n",
            "[2023-02-14 15:53:27] Fine-tune enqueued\n",
            "[2023-02-14 16:04:13] Fine-tune is in the queue. Queue number: 31\n",
            "[2023-02-14 16:10:21] Fine-tune is in the queue. Queue number: 30\n",
            "[2023-02-14 16:11:28] Fine-tune is in the queue. Queue number: 29\n",
            "[2023-02-14 16:12:47] Fine-tune is in the queue. Queue number: 28\n",
            "[2023-02-14 16:13:10] Fine-tune is in the queue. Queue number: 27\n",
            "[2023-02-14 16:15:15] Fine-tune is in the queue. Queue number: 26\n",
            "[2023-02-14 16:17:22] Fine-tune is in the queue. Queue number: 25\n",
            "[2023-02-14 16:17:25] Fine-tune is in the queue. Queue number: 24\n",
            "[2023-02-14 16:20:24] Fine-tune is in the queue. Queue number: 23\n",
            "[2023-02-14 16:20:26] Fine-tune is in the queue. Queue number: 22\n",
            "[2023-02-14 16:21:09] Fine-tune is in the queue. Queue number: 21\n",
            "[2023-02-14 16:22:23] Fine-tune is in the queue. Queue number: 20\n",
            "[2023-02-14 16:22:48] Fine-tune is in the queue. Queue number: 19\n",
            "[2023-02-14 16:23:40] Fine-tune is in the queue. Queue number: 18\n",
            "[2023-02-14 16:23:42] Fine-tune is in the queue. Queue number: 17\n",
            "[2023-02-14 16:26:40] Fine-tune is in the queue. Queue number: 16\n",
            "[2023-02-14 16:27:10] Fine-tune is in the queue. Queue number: 15\n",
            "[2023-02-14 16:27:41] Fine-tune is in the queue. Queue number: 14\n",
            "[2023-02-14 16:29:12] Fine-tune is in the queue. Queue number: 13\n",
            "[2023-02-14 16:29:37] Fine-tune is in the queue. Queue number: 12\n",
            "[2023-02-14 16:30:19] Fine-tune is in the queue. Queue number: 11\n",
            "[2023-02-14 16:30:21] Fine-tune is in the queue. Queue number: 10\n",
            "[2023-02-14 16:31:45] Fine-tune is in the queue. Queue number: 9\n",
            "[2023-02-14 16:32:29] Fine-tune is in the queue. Queue number: 8\n",
            "[2023-02-14 16:33:57] Fine-tune is in the queue. Queue number: 7\n",
            "[2023-02-14 16:36:12] Fine-tune is in the queue. Queue number: 6\n",
            "[2023-02-14 16:36:35] Fine-tune is in the queue. Queue number: 5\n",
            "[2023-02-14 16:36:56] Fine-tune is in the queue. Queue number: 4\n",
            "[2023-02-14 16:37:58] Fine-tune is in the queue. Queue number: 3\n",
            "[2023-02-14 16:39:10] Fine-tune is in the queue. Queue number: 2\n",
            "[2023-02-14 16:39:14] Fine-tune is in the queue. Queue number: 1\n",
            "[2023-02-14 16:39:46] Fine-tune is in the queue. Queue number: 0\n",
            "[2023-02-14 16:43:14] Fine-tune started\n",
            "[2023-02-14 16:45:49] Completed epoch 1/4\n",
            "[2023-02-14 16:46:35] Completed epoch 2/4\n",
            "[2023-02-14 16:47:21] Completed epoch 3/4\n",
            "[2023-02-14 16:48:06] Completed epoch 4/4\n",
            "[2023-02-14 16:48:51] Uploaded model: davinci:ft-personal-2023-02-14-16-48-51\n",
            "[2023-02-14 16:48:52] Uploaded result file: file-AdF6pHJQbktj9uHUZu8FUau8\n",
            "[2023-02-14 16:48:52] Fine-tune succeeded\n",
            "\n",
            "Job complete! Status: succeeded 🎉\n",
            "Try out your fine-tuned model:\n",
            "\n",
            "openai api completions.create -m davinci:ft-personal-2023-02-14-16-48-51 -p <YOUR_PROMPT>\n"
          ]
        }
      ]
    },
    {
      "cell_type": "markdown",
      "source": [
        "Testing finetuned model on different prompts"
      ],
      "metadata": {
        "id": "yk-D4-aw7rC4"
      }
    },
    {
      "cell_type": "code",
      "source": [
        "prompt = \"Do we have london flight on Monday\\n\\nIntent:\\n\\n\""
      ],
      "metadata": {
        "id": "yxI4cyyKscwc"
      },
      "execution_count": 71,
      "outputs": []
    },
    {
      "cell_type": "code",
      "source": [
        "import openai\n",
        "openai.api_key ='your openai api key'\n",
        "response = openai.Completion.create(\n",
        "  model=\"davinci:ft-personal-2023-02-14-16-48-51\",\n",
        "  prompt=prompt,\n",
        "  max_tokens=5,\n",
        "  temperature=0,\n",
        "  top_p=1,\n",
        "  frequency_penalty=0,\n",
        "  presence_penalty=0,\n",
        "  stop=[\" END\"]\n",
        ")\n",
        "print(response['choices'][0]['text'])"
      ],
      "metadata": {
        "colab": {
          "base_uri": "https://localhost:8080/"
        },
        "id": "WDsRio7m2yMe",
        "outputId": "962b6cb8-7b3b-4d79-d4ee-9944416a04ea"
      },
      "execution_count": 74,
      "outputs": [
        {
          "output_type": "stream",
          "name": "stdout",
          "text": [
            " flight\n"
          ]
        }
      ]
    },
    {
      "cell_type": "code",
      "source": [
        "prompt = \"what is the ap57 restriction\\n\\nIntent:\\n\\n\""
      ],
      "metadata": {
        "id": "nLdEoUiZ21lT"
      },
      "execution_count": 75,
      "outputs": []
    },
    {
      "cell_type": "code",
      "source": [
        "import openai\n",
        "openai.api_key ='your openai api key'\n",
        "response = openai.Completion.create(\n",
        "  model=\"davinci:ft-personal-2023-02-14-16-48-51\",\n",
        "  prompt=prompt,\n",
        "  max_tokens=5,\n",
        "  temperature=0,\n",
        "  top_p=1,\n",
        "  frequency_penalty=0,\n",
        "  presence_penalty=0,\n",
        "  stop=[\" END\"]\n",
        ")\n",
        "print(response['choices'][0]['text'])"
      ],
      "metadata": {
        "colab": {
          "base_uri": "https://localhost:8080/"
        },
        "id": "FI2pMEDd3IWM",
        "outputId": "227f9264-abb0-45e6-c985-1eb24a0fe633"
      },
      "execution_count": 76,
      "outputs": [
        {
          "output_type": "stream",
          "name": "stdout",
          "text": [
            " abbreviation\n"
          ]
        }
      ]
    },
    {
      "cell_type": "code",
      "source": [
        "prompt = \"show me ground transportation in baltimore\\n\\nIntent:\\n\\n\""
      ],
      "metadata": {
        "id": "YszN9Tma3KG4"
      },
      "execution_count": 77,
      "outputs": []
    },
    {
      "cell_type": "code",
      "source": [
        "import openai\n",
        "openai.api_key ='your openai api key'\n",
        "response = openai.Completion.create(\n",
        "  model=\"davinci:ft-personal-2023-02-14-16-48-51\",\n",
        "  prompt=prompt,\n",
        "  max_tokens=5,\n",
        "  temperature=0,\n",
        "  top_p=1,\n",
        "  frequency_penalty=0,\n",
        "  presence_penalty=0,\n",
        "  stop=[\" END\"]\n",
        ")\n",
        "print(response['choices'][0]['text'])"
      ],
      "metadata": {
        "colab": {
          "base_uri": "https://localhost:8080/"
        },
        "id": "SG0C7jLu3Mzw",
        "outputId": "5e91e017-1d11-4a76-a38d-feaeae8f9917"
      },
      "execution_count": 78,
      "outputs": [
        {
          "output_type": "stream",
          "name": "stdout",
          "text": [
            " ground_service\n"
          ]
        }
      ]
    },
    {
      "cell_type": "markdown",
      "source": [
        "As can be seen, our model is successfully finetuned."
      ],
      "metadata": {
        "id": "qAQHOoDp7vzV"
      }
    }
  ]
}